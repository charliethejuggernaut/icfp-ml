{
 "cells": [
  {
   "cell_type": "markdown",
   "id": "4524aa52",
   "metadata": {},
   "source": [
    "# Homework 1 - Part A\n",
    "\n",
    "Your name:\n",
    "\n",
    "Email (one used on the moodle): "
   ]
  },
  {
   "cell_type": "markdown",
   "id": "e285d48e",
   "metadata": {},
   "source": [
    "## Exact ROC curve for mixture of Gaussians\n",
    "\n",
    "The goal of this exercise is to extend the anaylsis made in class about [Exact ROC curve for Gaussian mixtures](https://github.com/mlelarge/icfp-ml/blob/main/solutions/Exact_ROC_GM_sol.ipynb) for a different set of parameters. We consider a mixture of (1-D) Gaussians with respective means $2$ and $5$ and respective standard deviation $1$ and $4$.\n",
    "The code below should not be modified and give the corresponding latent distributions."
   ]
  },
  {
   "cell_type": "code",
   "execution_count": null,
   "id": "94c49e86",
   "metadata": {},
   "outputs": [],
   "source": [
    "import matplotlib.pyplot as plt\n",
    "import numpy as np\n",
    "import math\n",
    "from scipy import stats\n",
    "\n",
    "p = 0.5\n",
    "ps = [p, 1-p]\n",
    "mus = [2, 5]\n",
    "sigmas = [1,4]\n",
    "generative_m = np.array([stats.norm(mus[0], sigmas[0]), stats.norm(mus[1], sigmas[1])])\n",
    "\n",
    "# plot the latent distributions\n",
    "x = np.linspace(-5, 15, 150)\n",
    "plt.figure(figsize=(16, 6))\n",
    "plt.plot(x, ps[0]*generative_m[0].pdf(x))\n",
    "plt.plot(x, ps[1]*generative_m[1].pdf(x))\n",
    "plt.plot(x, ps[0]*generative_m[0].pdf(x) + ps[1]*generative_m[1].pdf(x), lw=1, ls='-.', color='black')\n",
    "plt.fill_betweenx(ps[0]*generative_m[0].pdf(x), x, alpha=0.1)\n",
    "plt.fill_betweenx(ps[1]*generative_m[1].pdf(x), x, alpha=0.1);"
   ]
  },
  {
   "cell_type": "markdown",
   "id": "2e2e9631",
   "metadata": {},
   "source": [
    "### Question: draw the corresponding ROC curve.\n",
    "\n",
    "First code a function computing the log likelihood ratio and check (visually) that $\\mathbb{1}(\\mathcal{L}(x)\\geq \\eta) = \\mathbb{1}(x\\leq x_{inf}(\\eta) \\text{ or } x\\geq x_{sup}(\\eta))$. Then compute approximately $x_{inf}(\\eta)$ and $x_{sup}(\\eta)$ and the TPRs and FPRs as a function of $\\eta$:\n",
    "- **True Positive Rate** $=\\mathbb{P}(\\hat{Y}(X)=1|Y=1)$\n",
    "- **False Positive Rate** $=\\mathbb{P}(\\hat{Y}(X)=1|Y=0)$\n",
    "\n",
    "Plot also the curve for the accuracy as a function of $\\eta$ and compute (approximately) the value of $\\eta$ corresponding to the max accuracy. Add this point on your final ROC curve."
   ]
  },
  {
   "cell_type": "code",
   "execution_count": null,
   "id": "082e5f5b",
   "metadata": {},
   "outputs": [],
   "source": [
    "# your code"
   ]
  }
 ],
 "metadata": {
  "kernelspec": {
   "display_name": "ml-icfp",
   "language": "python",
   "name": "ml-icfp"
  },
  "language_info": {
   "codemirror_mode": {
    "name": "ipython",
    "version": 3
   },
   "file_extension": ".py",
   "mimetype": "text/x-python",
   "name": "python",
   "nbconvert_exporter": "python",
   "pygments_lexer": "ipython3",
   "version": "3.10.11"
  }
 },
 "nbformat": 4,
 "nbformat_minor": 5
}
