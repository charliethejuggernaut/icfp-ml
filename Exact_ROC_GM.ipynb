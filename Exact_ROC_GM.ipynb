{
 "cells": [
  {
   "cell_type": "code",
   "execution_count": null,
   "id": "c46c2e3c",
   "metadata": {},
   "outputs": [],
   "source": [
    "import matplotlib.pyplot as plt\n",
    "import numpy as np\n",
    "import math\n",
    "from scipy import stats\n",
    "from scipy.special import psi, gamma\n",
    "\n",
    "np.random.seed(654)\n",
    "# Draw samples from two Gaussian w.p. c_i ~ Bernoulli(p)\n",
    "p = 0.5\n",
    "ps = [p, 1-p]\n",
    "mus = [2, 5]\n",
    "generative_m = np.array([stats.norm(mus[0], 1), stats.norm(mus[1], 1)])\n",
    "c_i = stats.bernoulli(p).rvs(100)\n",
    "x_i = np.array([g.rvs() for g in generative_m[c_i]])\n",
    "\n",
    "# plot generated data and the latent distributions\n",
    "x = np.linspace(-5, 12, 150)\n",
    "plt.figure(figsize=(16, 6))\n",
    "plt.plot(x, (1-p)*generative_m[0].pdf(x))\n",
    "plt.plot(x, p*generative_m[1].pdf(x))\n",
    "plt.plot(x, (1-p)*generative_m[0].pdf(x) + p*generative_m[1].pdf(x), lw=1, ls='-.', color='black')\n",
    "plt.fill_betweenx((1-p)*generative_m[0].pdf(x), x, alpha=0.1)\n",
    "plt.fill_betweenx(p*generative_m[1].pdf(x), x, alpha=0.1)\n",
    "#plt.vlines(x_i, 0, 0.01, color=np.array(['C0', 'C1'])[c_i])"
   ]
  },
  {
   "cell_type": "code",
   "execution_count": null,
   "id": "c47a809a",
   "metadata": {},
   "outputs": [],
   "source": [
    "plt.figure(figsize=(16, 6))\n",
    "plt.plot(x, (1-p)*generative_m[0].cdf(x) + p*generative_m[1].cdf(x), lw=1, ls='-.', color='black')"
   ]
  },
  {
   "cell_type": "markdown",
   "id": "1dfc5559",
   "metadata": {},
   "source": [
    "- **True Positive Rate** $=\\mathbb{P}(\\hat{Y}(X)=1|Y=1)$\n",
    "- **False Positive Rate** $=\\mathbb{P}(\\hat{Y}(X)=1|Y=0)$"
   ]
  },
  {
   "cell_type": "code",
   "execution_count": null,
   "id": "0da22501",
   "metadata": {},
   "outputs": [],
   "source": []
  },
  {
   "cell_type": "markdown",
   "id": "d215a842",
   "metadata": {},
   "source": [
    "- **Recall = True Positive Rate**\n",
    "- **Precision** $=\\mathbb{P}(Y=1|\\hat{Y}(X)=1)$"
   ]
  },
  {
   "cell_type": "code",
   "execution_count": null,
   "id": "d95a5fe8",
   "metadata": {},
   "outputs": [],
   "source": []
  }
 ],
 "metadata": {
  "kernelspec": {
   "display_name": "ml-icfp",
   "language": "python",
   "name": "ml-icfp"
  },
  "language_info": {
   "codemirror_mode": {
    "name": "ipython",
    "version": 3
   },
   "file_extension": ".py",
   "mimetype": "text/x-python",
   "name": "python",
   "nbconvert_exporter": "python",
   "pygments_lexer": "ipython3",
   "version": "3.10.11"
  }
 },
 "nbformat": 4,
 "nbformat_minor": 5
}
